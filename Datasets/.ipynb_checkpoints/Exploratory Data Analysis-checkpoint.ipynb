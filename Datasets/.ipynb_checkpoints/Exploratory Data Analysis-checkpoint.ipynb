{
 "cells": [
  {
   "cell_type": "markdown",
   "id": "3653afc5",
   "metadata": {},
   "source": [
    "# 10Alytics Data Analytics Hackathon"
   ]
  },
  {
   "cell_type": "markdown",
   "id": "c52bef00",
   "metadata": {},
   "source": [
    "### Olaniyan Oladimeji Mumini"
   ]
  },
  {
   "cell_type": "code",
   "execution_count": 1,
   "id": "b773efeb",
   "metadata": {},
   "outputs": [],
   "source": [
    "# Importing libraries\n",
    "import numpy as np\n",
    "import pandas as pd\n",
    "import matplotlib.pyplot as plt\n",
    "import seaborn as sns"
   ]
  },
  {
   "cell_type": "markdown",
   "id": "079d4d44",
   "metadata": {},
   "source": [
    "## Abstract"
   ]
  },
  {
   "cell_type": "markdown",
   "id": "7ec6b101",
   "metadata": {},
   "source": [
    "The aim of this project is to find solutions to the health challenges, especially in Africa."
   ]
  },
  {
   "cell_type": "markdown",
   "id": "c8bf44a9",
   "metadata": {},
   "source": [
    "## Data wrangling "
   ]
  },
  {
   "cell_type": "code",
   "execution_count": null,
   "id": "7ae3c3a0",
   "metadata": {},
   "outputs": [],
   "source": [
    "# downloading the datasets by importing them using the pandas library\n",
    "cause_of_death = pd.read_csv('annual_number_of_deaths_by_cause.csv')\n",
    "number_of_death = pd.read_csv('train.csv')\n",
    "number_of_medical_doctors = pd.read_csv('train.csv')\n",
    "world_population = pd.read_csv('train.csv')\n",
    "health_expenditure = pd.read_csv('train.csv')"
   ]
  }
 ],
 "metadata": {
  "kernelspec": {
   "display_name": "Python 3 (ipykernel)",
   "language": "python",
   "name": "python3"
  },
  "language_info": {
   "codemirror_mode": {
    "name": "ipython",
    "version": 3
   },
   "file_extension": ".py",
   "mimetype": "text/x-python",
   "name": "python",
   "nbconvert_exporter": "python",
   "pygments_lexer": "ipython3",
   "version": "3.9.12"
  },
  "toc": {
   "base_numbering": 1,
   "nav_menu": {},
   "number_sections": true,
   "sideBar": true,
   "skip_h1_title": false,
   "title_cell": "Table of Contents",
   "title_sidebar": "Contents",
   "toc_cell": false,
   "toc_position": {},
   "toc_section_display": true,
   "toc_window_display": false
  }
 },
 "nbformat": 4,
 "nbformat_minor": 5
}
